{
 "cells": [
  {
   "cell_type": "markdown",
   "metadata": {},
   "source": [
    "### Reverse String"
   ]
  },
  {
   "cell_type": "markdown",
   "metadata": {},
   "source": [
    "Write a function that reverses a string. The input string is given as an array of characters char[].\n",
    "\n",
    "Do not allocate extra space for another array, you must do this by modifying the input array in-place with O(1) extra memory.\n",
    "\n",
    "You may assume all the characters consist of printable ascii characters."
   ]
  },
  {
   "cell_type": "markdown",
   "metadata": {},
   "source": [
    "##### Example1\n",
    "\n",
    "Input: [\"h\",\"e\",\"l\",\"l\",\"o\"]\n",
    "\n",
    "Output: [\"o\",\"l\",\"l\",\"e\",\"h\"]"
   ]
  },
  {
   "cell_type": "markdown",
   "metadata": {},
   "source": [
    "##### Example2\n",
    "\n",
    "Input: [\"H\",\"a\",\"n\",\"n\",\"a\",\"h\"]\n",
    "\n",
    "Output: [\"h\",\"a\",\"n\",\"n\",\"a\",\"H\"]"
   ]
  },
  {
   "cell_type": "code",
   "execution_count": 7,
   "metadata": {},
   "outputs": [],
   "source": [
    "# With reverse function  \n",
    "def reverse_string(s):\n",
    "    s.reverse()   \n",
    "    return  s "
   ]
  },
  {
   "cell_type": "code",
   "execution_count": 33,
   "metadata": {},
   "outputs": [],
   "source": [
    "assert(reverse_string([\"h\",\"e\",\"l\",\"l\",\"o\"]) == [\"o\",\"l\",\"l\",\"e\",\"h\"])\n",
    "assert(reverse_string([\"H\",\"a\",\"n\",\"n\",\"a\",\"h\"]) == [\"h\",\"a\",\"n\",\"n\",\"a\",\"H\"])"
   ]
  },
  {
   "cell_type": "code",
   "execution_count": 36,
   "metadata": {},
   "outputs": [],
   "source": [
    "def reverse_string(s):\n",
    "    return  s[::-1]"
   ]
  },
  {
   "cell_type": "code",
   "execution_count": 37,
   "metadata": {},
   "outputs": [],
   "source": [
    "assert(reverse_string([\"h\",\"e\",\"l\",\"l\",\"o\"]) == [\"o\",\"l\",\"l\",\"e\",\"h\"])\n",
    "assert(reverse_string([\"H\",\"a\",\"n\",\"n\",\"a\",\"h\"]) == [\"h\",\"a\",\"n\",\"n\",\"a\",\"H\"])"
   ]
  },
  {
   "cell_type": "code",
   "execution_count": 38,
   "metadata": {},
   "outputs": [],
   "source": [
    "# Without reverse function  \n",
    "def reverse_string(s):\n",
    "    for i in range(len(s)//2):\n",
    "        k = len(s)-1-i\n",
    "        s[i], s[k] = s[k], s[i]\n",
    "    return s"
   ]
  },
  {
   "cell_type": "code",
   "execution_count": 39,
   "metadata": {},
   "outputs": [],
   "source": [
    "assert(reverse_string([\"h\",\"e\",\"l\",\"l\",\"o\"]) == [\"o\",\"l\",\"l\",\"e\",\"h\"])\n",
    "assert(reverse_string([\"H\",\"a\",\"n\",\"n\",\"a\",\"h\"]) == [\"h\",\"a\",\"n\",\"n\",\"a\",\"H\"])"
   ]
  },
  {
   "cell_type": "markdown",
   "metadata": {},
   "source": [
    "### Reverse Integer"
   ]
  },
  {
   "cell_type": "markdown",
   "metadata": {},
   "source": [
    "Given a 32-bit signed integer, reverse digits of an integer.\n",
    "\n",
    "#### Example1\n",
    "Input:123  \n",
    "\n",
    "Output: 321\n",
    "    \n",
    "#### Example2\n",
    "Input: -123\n",
    "\n",
    "Output: -321\n",
    "    \n",
    "#### Example3  \n",
    "Input: 120\n",
    "\n",
    "Output: 21\n",
    "    \n",
    "    \n",
    "##### Note\n",
    "Assume we are dealing with an environment which could only store integers within the 32-bit signed integer range: [−231,  231 − 1]. For the purpose of this problem, assume that your function returns 0 when the reversed integer overflows."
   ]
  },
  {
   "cell_type": "code",
   "execution_count": 40,
   "metadata": {},
   "outputs": [],
   "source": [
    "def reverse_int(num):\n",
    "    rev = int(str(abs(num))[::-1])\n",
    "    if rev< -2**31 or rev > 2**31 -1:\n",
    "        return 0\n",
    "    return rev if num>0 else -rev"
   ]
  },
  {
   "cell_type": "code",
   "execution_count": 41,
   "metadata": {},
   "outputs": [],
   "source": [
    "assert(reverse_int(123) == 321)\n",
    "assert(reverse_int(-123) == -321)\n",
    "assert(reverse_int(120) == 21)"
   ]
  },
  {
   "cell_type": "code",
   "execution_count": 64,
   "metadata": {},
   "outputs": [],
   "source": [
    "def reverse_int(num):\n",
    "    x_rem = abs(num)\n",
    "    res = 0\n",
    "    while x_rem:\n",
    "        res = res*10 + x_rem%10\n",
    "        x_rem //= 10\n",
    "    return res if num>0 else -res"
   ]
  },
  {
   "cell_type": "code",
   "execution_count": 65,
   "metadata": {},
   "outputs": [],
   "source": [
    "assert(reverse_int(123) == 321)\n",
    "assert(reverse_int(-123) == -321)\n",
    "assert(reverse_int(120) == 21)"
   ]
  }
 ],
 "metadata": {
  "kernelspec": {
   "display_name": "Python 3",
   "language": "python",
   "name": "python3"
  },
  "language_info": {
   "codemirror_mode": {
    "name": "ipython",
    "version": 3
   },
   "file_extension": ".py",
   "mimetype": "text/x-python",
   "name": "python",
   "nbconvert_exporter": "python",
   "pygments_lexer": "ipython3",
   "version": "3.7.6"
  }
 },
 "nbformat": 4,
 "nbformat_minor": 4
}
